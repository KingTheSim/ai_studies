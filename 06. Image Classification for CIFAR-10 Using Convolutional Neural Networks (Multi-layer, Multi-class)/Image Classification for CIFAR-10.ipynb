{
 "cells": [
  {
   "cell_type": "markdown",
   "id": "2bd0f7cf",
   "metadata": {},
   "source": [
    "## Tensorflow, Keras and Dataset importing"
   ]
  },
  {
   "cell_type": "code",
   "execution_count": null,
   "id": "0566c154",
   "metadata": {},
   "outputs": [],
   "source": [
    "import tensorflow as tf\n",
    "from tensorflow.keras import datasets, layers, models\n",
    "from tensorflow.keras.datasets import cifar10"
   ]
  },
  {
   "cell_type": "markdown",
   "id": "08a2d86e",
   "metadata": {},
   "source": [
    "## Getting the data"
   ]
  },
  {
   "cell_type": "code",
   "execution_count": null,
   "id": "10c9855a",
   "metadata": {},
   "outputs": [],
   "source": [
    "(ip_train, op_train), (ip_test, op_test) = cifar10.load_data()\n",
    "print(ip_train.shape, ip_test.shape)"
   ]
  },
  {
   "cell_type": "markdown",
   "id": "4aa4790c",
   "metadata": {},
   "source": [
    "## Data shaping"
   ]
  },
  {
   "cell_type": "code",
   "execution_count": null,
   "id": "3e8aed7f",
   "metadata": {},
   "outputs": [],
   "source": [
    "ip_train = ip_train.reshape(ip_train.shape[0], 32, 32, 3)\n",
    "ip_test = ip_test.reshape(ip_test.shape[0], 32, 32, 3)\n",
    "ip_train, ip_test = ip_train / 255.0, ip_test / 255.0"
   ]
  },
  {
   "cell_type": "markdown",
   "id": "0f5be488",
   "metadata": {},
   "source": [
    "## Neural Network building"
   ]
  },
  {
   "cell_type": "code",
   "execution_count": null,
   "id": "91a62437",
   "metadata": {},
   "outputs": [],
   "source": [
    "model = models.Sequential()\n",
    "\n",
    "model.add(layers.Conv2D(32, (3, 3), activation=\"relu\", input_shape=(32, 32, 3)))\n",
    "model.add(layers.MaxPool2D((2, 2)))\n",
    "model.add(layers.Conv2D(64, (3, 3), activation=\"relu\"))\n",
    "model.add(layers.MaxPool2D((2, 2)))\n",
    "model.add(layers.Conv2D(64, (3, 3), activation=\"relu\"))\n",
    "\n",
    "model.add(layers.Flatten())\n",
    "model.add(layers.Dense(64, activation=\"relu\"))\n",
    "model.add(layers.Dense(10, activation=\"softmax\"))"
   ]
  },
  {
   "cell_type": "markdown",
   "id": "b833339c",
   "metadata": {},
   "source": [
    "## Model compiling"
   ]
  },
  {
   "cell_type": "code",
   "execution_count": null,
   "id": "5f858bb1",
   "metadata": {},
   "outputs": [],
   "source": [
    "model.compile(\n",
    "    optimizer=\"adam\",\n",
    "    loss=\"sparse_categorical_crossentropy\",\n",
    "    metrics=[\"accuracy\"]\n",
    ")\n",
    "\n",
    "model.summary()"
   ]
  },
  {
   "cell_type": "markdown",
   "id": "ef02d10a",
   "metadata": {},
   "source": [
    "## Model training"
   ]
  },
  {
   "cell_type": "code",
   "execution_count": null,
   "id": "46a34631",
   "metadata": {},
   "outputs": [],
   "source": [
    "model.fit(ip_train, op_train, epochs=10)"
   ]
  },
  {
   "cell_type": "markdown",
   "id": "fc395900",
   "metadata": {},
   "source": [
    "## Model evaluation"
   ]
  },
  {
   "cell_type": "code",
   "execution_count": null,
   "id": "b2c4e0e4",
   "metadata": {},
   "outputs": [],
   "source": [
    "model.evaluate(ip_test, op_test, verbose=1)"
   ]
  },
  {
   "cell_type": "markdown",
   "id": "06a9ac80",
   "metadata": {},
   "source": [
    "# Importing matplotlib and getting a test image"
   ]
  },
  {
   "cell_type": "code",
   "execution_count": null,
   "id": "be436df7",
   "metadata": {},
   "outputs": [],
   "source": [
    "import random\n",
    "import matplotlib.pyplot as plt\n",
    "%matplotlib inline\n",
    "\n",
    "test_image = ip_test[random.randint(0, 9999)]\n",
    "plt.imshow(test_image.reshape(32, 32, 3))"
   ]
  },
  {
   "cell_type": "markdown",
   "id": "4e34db88",
   "metadata": {},
   "source": [
    "## Raw test"
   ]
  },
  {
   "cell_type": "code",
   "execution_count": null,
   "id": "d0fe874d",
   "metadata": {},
   "outputs": [],
   "source": [
    "import numpy as np\n",
    "\n",
    "from tensorflow.keras.preprocessing import image\n",
    "\n",
    "classes = [\"airplane\", \"automobile\", \"bird\", \"cat\", \"deer\", \"dog\", \"frog\", \"horse\", \"ship\", \"truck\"]\n",
    "\n",
    "test_image = image.img_to_array(test_image)\n",
    "test_image = test_image.reshape(1, 32, 32, 3)\n",
    "\n",
    "result = model.predict(test_image)\n",
    "result"
   ]
  },
  {
   "cell_type": "markdown",
   "id": "e62e987e",
   "metadata": {},
   "source": [
    "## Final result"
   ]
  },
  {
   "cell_type": "code",
   "execution_count": null,
   "id": "ee7d6e03",
   "metadata": {},
   "outputs": [],
   "source": [
    "np.round(result)\n",
    "\n",
    "n = (np.round(result)).argmax()\n",
    "\n",
    "print(classes[n])"
   ]
  }
 ],
 "metadata": {
  "kernelspec": {
   "display_name": "Python 3 (ipykernel)",
   "language": "python",
   "name": "python3"
  },
  "language_info": {
   "codemirror_mode": {
    "name": "ipython",
    "version": 3
   },
   "file_extension": ".py",
   "mimetype": "text/x-python",
   "name": "python",
   "nbconvert_exporter": "python",
   "pygments_lexer": "ipython3",
   "version": "3.11.5"
  }
 },
 "nbformat": 4,
 "nbformat_minor": 5
}

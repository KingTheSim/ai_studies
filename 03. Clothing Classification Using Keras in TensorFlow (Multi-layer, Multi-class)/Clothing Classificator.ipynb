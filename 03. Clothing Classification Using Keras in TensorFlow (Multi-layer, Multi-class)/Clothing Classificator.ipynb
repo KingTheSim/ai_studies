{
 "cells": [
  {
   "cell_type": "markdown",
   "id": "bc94914b",
   "metadata": {},
   "source": [
    "Importing"
   ]
  },
  {
   "cell_type": "code",
   "execution_count": null,
   "id": "0846d523",
   "metadata": {},
   "outputs": [],
   "source": [
    "import tensorflow as tf\n",
    "from tensorflow.keras import datasets, layers, models"
   ]
  },
  {
   "cell_type": "markdown",
   "id": "18f772e4",
   "metadata": {},
   "source": [
    "Loading dataset"
   ]
  },
  {
   "cell_type": "code",
   "execution_count": null,
   "id": "7fd4fec8",
   "metadata": {},
   "outputs": [],
   "source": [
    "data = datasets.fashion_mnist\n",
    "(ip_train, op_train), (ip_test, op_test) = data.load_data()"
   ]
  },
  {
   "cell_type": "markdown",
   "id": "d171e48a",
   "metadata": {},
   "source": [
    "Shape check-up"
   ]
  },
  {
   "cell_type": "code",
   "execution_count": null,
   "id": "8493bce1",
   "metadata": {},
   "outputs": [],
   "source": [
    "print(ip_train.shape, ip_test.shape)"
   ]
  },
  {
   "cell_type": "markdown",
   "id": "96130325",
   "metadata": {},
   "source": [
    "Reshaping values"
   ]
  },
  {
   "cell_type": "code",
   "execution_count": null,
   "id": "06d5aba2",
   "metadata": {},
   "outputs": [],
   "source": [
    "ip_train = ip_train.reshape((60000, 28, 28, 1))\n",
    "ip_test = ip_test.reshape((10000, 28, 28, 1))\n",
    "print(ip_train.shape, ip_test.shape)"
   ]
  },
  {
   "cell_type": "markdown",
   "id": "1079aae4",
   "metadata": {},
   "source": [
    "Normalizing the data"
   ]
  },
  {
   "cell_type": "code",
   "execution_count": null,
   "id": "b55e8917",
   "metadata": {},
   "outputs": [],
   "source": [
    "ip_train, ip_test = ip_train / 255.0, ip_test / 255.0"
   ]
  },
  {
   "cell_type": "markdown",
   "id": "397cef28",
   "metadata": {},
   "source": [
    "Neural network"
   ]
  },
  {
   "cell_type": "code",
   "execution_count": null,
   "id": "a3dd1729",
   "metadata": {},
   "outputs": [],
   "source": [
    "model = models.Sequential([\n",
    "    layers.Flatten(input_shape=(28,28,1)),\n",
    "    layers.Dense(128, activation=\"relu\"),\n",
    "    layers.Dense(1000, activation=\"relu\"),\n",
    "    layers.Dropout(0.5),\n",
    "    layers.Dense(10, activation=\"softmax\")\n",
    "])"
   ]
  },
  {
   "cell_type": "markdown",
   "id": "496b2ba7",
   "metadata": {},
   "source": [
    "Model compilation"
   ]
  },
  {
   "cell_type": "code",
   "execution_count": null,
   "id": "81a09246",
   "metadata": {},
   "outputs": [],
   "source": [
    "model.compile(\n",
    "    optimizer=\"adam\",\n",
    "    loss=\"sparse_categorical_crossentropy\",\n",
    "    metrics=[\"accuracy\"]\n",
    ")"
   ]
  },
  {
   "cell_type": "markdown",
   "id": "bdd12327",
   "metadata": {},
   "source": [
    "Model summary"
   ]
  },
  {
   "cell_type": "code",
   "execution_count": null,
   "id": "f4b0f8f0",
   "metadata": {},
   "outputs": [],
   "source": [
    "model.summary()"
   ]
  },
  {
   "cell_type": "markdown",
   "id": "e3bd6984",
   "metadata": {},
   "source": [
    "Training"
   ]
  },
  {
   "cell_type": "code",
   "execution_count": null,
   "id": "276b01c7",
   "metadata": {},
   "outputs": [],
   "source": [
    "model.fit(ip_train, op_train, epochs=5)"
   ]
  },
  {
   "cell_type": "markdown",
   "id": "f6613788",
   "metadata": {},
   "source": [
    "Model testing"
   ]
  },
  {
   "cell_type": "code",
   "execution_count": null,
   "id": "c057c6df",
   "metadata": {},
   "outputs": [],
   "source": [
    "model.evaluate(ip_test, op_test, verbose=1)"
   ]
  },
  {
   "cell_type": "markdown",
   "id": "fc03db96",
   "metadata": {},
   "source": [
    "Class names"
   ]
  },
  {
   "cell_type": "code",
   "execution_count": null,
   "id": "d3f082a0",
   "metadata": {},
   "outputs": [],
   "source": [
    "class_names = [\"T-shirt/top\", \"Trousers\", \"Pullover\", \"Dress\", \"Coat\",\n",
    "               \"Sandal\", \"Shirt\", \"Sneaker\", \"Bag\", \"Ankle boot\"]\n"
   ]
  },
  {
   "cell_type": "code",
   "execution_count": null,
   "id": "31ec8f2a",
   "metadata": {},
   "outputs": [],
   "source": [
    "import random\n",
    "import matplotlib.pyplot as plt\n",
    "%matplotlib inline\n",
    "\n",
    "test_image = ip_test[random.randint(0, 9999)]\n",
    "plt.imshow(test_image.reshape(28, 28))"
   ]
  },
  {
   "cell_type": "markdown",
   "id": "32713673",
   "metadata": {},
   "source": [
    "Prediction"
   ]
  },
  {
   "cell_type": "code",
   "execution_count": null,
   "id": "9829e898",
   "metadata": {},
   "outputs": [],
   "source": [
    "import numpy as np\n",
    "from tensorflow.keras.preprocessing import image\n",
    "\n",
    "test_image = image.img_to_array(test_image)\n",
    "test_image = test_image.reshape(1, 28, 28, 1)\n",
    "result = model.predict(test_image)\n",
    "result"
   ]
  },
  {
   "cell_type": "markdown",
   "id": "44c4ac13",
   "metadata": {},
   "source": [
    "Human readable"
   ]
  },
  {
   "cell_type": "code",
   "execution_count": null,
   "id": "d60bc743",
   "metadata": {},
   "outputs": [],
   "source": [
    "n = (np.around(result)).argmax()\n",
    "print(class_names[n])"
   ]
  },
  {
   "cell_type": "code",
   "execution_count": null,
   "id": "29efb839",
   "metadata": {},
   "outputs": [],
   "source": []
  }
 ],
 "metadata": {
  "kernelspec": {
   "display_name": "Python 3 (ipykernel)",
   "language": "python",
   "name": "python3"
  },
  "language_info": {
   "codemirror_mode": {
    "name": "ipython",
    "version": 3
   },
   "file_extension": ".py",
   "mimetype": "text/x-python",
   "name": "python",
   "nbconvert_exporter": "python",
   "pygments_lexer": "ipython3",
   "version": "3.11.5"
  }
 },
 "nbformat": 4,
 "nbformat_minor": 5
}

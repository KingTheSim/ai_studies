{
 "cells": [
  {
   "cell_type": "code",
   "execution_count": null,
   "id": "0357dc2c",
   "metadata": {},
   "outputs": [],
   "source": [
    "import tensorflow as tf"
   ]
  },
  {
   "cell_type": "code",
   "execution_count": null,
   "id": "5f51a53e",
   "metadata": {},
   "outputs": [],
   "source": [
    "data = tf.keras.datasets.mnist\n",
    "(ip_train, op_train), (ip_test, op_test) = data.load_data()"
   ]
  },
  {
   "cell_type": "code",
   "execution_count": null,
   "id": "ac6b738a",
   "metadata": {},
   "outputs": [],
   "source": [
    "ip_train, ip_test = ip_train / 255.0, ip_test / 255.0"
   ]
  },
  {
   "cell_type": "code",
   "execution_count": null,
   "id": "698f57e0",
   "metadata": {},
   "outputs": [],
   "source": [
    "model = tf.keras.models.Sequential([\n",
    "    tf.keras.layers.Flatten(input_shape = (28,28)),\n",
    "    tf.keras.layers.Dense(10, activation= 'softmax')\n",
    "])"
   ]
  },
  {
   "cell_type": "code",
   "execution_count": null,
   "id": "428c9aeb",
   "metadata": {},
   "outputs": [],
   "source": [
    "model.compile(\n",
    "    optimizer= 'adam',\n",
    "    loss= 'sparse_categorical_crossentropy',\n",
    "    metrics= ['accuracy']\n",
    ")"
   ]
  },
  {
   "cell_type": "code",
   "execution_count": null,
   "id": "175a9670",
   "metadata": {},
   "outputs": [],
   "source": [
    "model.summary()"
   ]
  },
  {
   "cell_type": "code",
   "execution_count": null,
   "id": "0b90531d",
   "metadata": {},
   "outputs": [],
   "source": [
    "model.fit(ip_train, op_train, epochs= 6)"
   ]
  },
  {
   "cell_type": "code",
   "execution_count": null,
   "id": "e7d80002",
   "metadata": {},
   "outputs": [],
   "source": [
    "model.evaluate(ip_test, op_test)"
   ]
  },
  {
   "cell_type": "code",
   "execution_count": null,
   "id": "ae0367d2",
   "metadata": {},
   "outputs": [],
   "source": [
    "import random\n",
    "\n",
    "import matplotlib.pyplot as plt\n",
    "%matplotlib inline\n",
    "test_image = ip_test[random.randint(0, 9999)]\n",
    "plt.imshow(test_image.reshape(28,28))"
   ]
  },
  {
   "cell_type": "code",
   "execution_count": null,
   "id": "078143fe",
   "metadata": {},
   "outputs": [],
   "source": [
    "import numpy as np\n",
    "from tensorflow.keras.preprocessing import image\n",
    "test_image = image.img_to_array(test_image)\n",
    "test_image = test_image.reshape(1,28,28)\n",
    "result = model.predict(test_image)\n",
    "result"
   ]
  },
  {
   "cell_type": "code",
   "execution_count": null,
   "id": "a53388c2",
   "metadata": {},
   "outputs": [],
   "source": [
    "np.around(result)"
   ]
  },
  {
   "cell_type": "code",
   "execution_count": null,
   "id": "86b1e52d",
   "metadata": {},
   "outputs": [],
   "source": [
    "(np.around(result)).argmax()"
   ]
  },
  {
   "cell_type": "code",
   "execution_count": null,
   "id": "93b0c2a0",
   "metadata": {},
   "outputs": [],
   "source": []
  }
 ],
 "metadata": {
  "kernelspec": {
   "display_name": "Python 3 (ipykernel)",
   "language": "python",
   "name": "python3"
  },
  "language_info": {
   "codemirror_mode": {
    "name": "ipython",
    "version": 3
   },
   "file_extension": ".py",
   "mimetype": "text/x-python",
   "name": "python",
   "nbconvert_exporter": "python",
   "pygments_lexer": "ipython3",
   "version": "3.11.5"
  }
 },
 "nbformat": 4,
 "nbformat_minor": 5
}

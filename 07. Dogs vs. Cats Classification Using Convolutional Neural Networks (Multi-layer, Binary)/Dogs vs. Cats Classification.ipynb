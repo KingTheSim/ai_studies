{
 "cells": [
  {
   "cell_type": "markdown",
   "id": "39dde3f9",
   "metadata": {},
   "source": [
    "## Library importing"
   ]
  },
  {
   "cell_type": "code",
   "execution_count": null,
   "id": "e5f727d5",
   "metadata": {},
   "outputs": [],
   "source": [
    "import tensorflow as tf\n",
    "\n",
    "from tensorflow.keras.models import Sequential\n",
    "from tensorflow.keras.layers import Conv2D, MaxPooling2D, Flatten, Dense\n",
    "\n",
    "import os"
   ]
  },
  {
   "cell_type": "markdown",
   "id": "8962ca31",
   "metadata": {},
   "source": [
    "## Model creation"
   ]
  },
  {
   "cell_type": "code",
   "execution_count": null,
   "id": "51dabd9c",
   "metadata": {},
   "outputs": [],
   "source": [
    "classifier = Sequential()\n",
    "\n",
    "classifier.add(Conv2D(64, (3, 3), input_shape=(64, 64, 3), activation=\"relu\"))\n",
    "classifier.add(MaxPooling2D(pool_size=(2, 2)))\n",
    "\n",
    "classifier.add(Conv2D(64, (3, 3), activation=\"relu\"))\n",
    "classifier.add(MaxPooling2D(pool_size=(2, 2)))\n",
    "\n",
    "classifier.add(Conv2D(64, (3, 3), activation=\"relu\"))\n",
    "classifier.add(MaxPooling2D(pool_size=(2, 2)))\n",
    "\n",
    "classifier.add(Flatten())\n",
    "\n",
    "classifier.add(Dense(units=128, activation=\"relu\"))\n",
    "classifier.add(Dense(units=1, activation=\"sigmoid\"))\n",
    "\n",
    "classifier.compile(optimizer=\"adam\", loss=\"binary_crossentropy\", metrics=[\"accuracy\"])"
   ]
  },
  {
   "cell_type": "markdown",
   "id": "fa8aaeb0",
   "metadata": {},
   "source": [
    "## Transforming the imported data"
   ]
  },
  {
   "cell_type": "code",
   "execution_count": null,
   "id": "9a7ccf92",
   "metadata": {},
   "outputs": [],
   "source": [
    "from tensorflow.keras.preprocessing.image import ImageDataGenerator\n",
    "\n",
    "train_datagen = ImageDataGenerator(rescale=1./255, shear_range=0.2, zoom_range=0.2, horizontal_flip=True)\n",
    "\n",
    "test_datagen = ImageDataGenerator(rescale=1./255)"
   ]
  },
  {
   "cell_type": "markdown",
   "id": "a24f5d0c",
   "metadata": {},
   "source": [
    "## Downloading dataset"
   ]
  },
  {
   "cell_type": "code",
   "execution_count": null,
   "id": "cb0c25e0",
   "metadata": {},
   "outputs": [],
   "source": [
    "_URL = \"https://storage.googleapis.com/mledu-datasets/cats_and_dogs_filtered.zip\"\n",
    "\n",
    "path_to_zip = tf.keras.utils.get_file(\"cats_and_dogs.zip\", origin=_URL, extract=True)\n",
    "\n",
    "Path=os.path.join(os.path.dirname(path_to_zip), \"cats_and_dogs_filtered\")"
   ]
  },
  {
   "cell_type": "markdown",
   "id": "161318b6",
   "metadata": {},
   "source": [
    "## Setting up directories"
   ]
  },
  {
   "cell_type": "code",
   "execution_count": null,
   "id": "b7ced878",
   "metadata": {},
   "outputs": [],
   "source": [
    "trainingdir = os.path.join(Path, \"train\")\n",
    "testingdir = os.path.join(Path, \"validation\")\n",
    "\n",
    "# Cats training directory\n",
    "cats_train = os.path.join(trainingdir, \"cats\")\n",
    "\n",
    "# Dogs training directory\n",
    "dogs_train = os.path.join(trainingdir, \"dogs\")\n",
    "\n",
    "# Cats testing directory\n",
    "cats_test = os.path.join(testingdir, \"cats\")\n",
    "\n",
    "# Dogs testing directory\n",
    "dogs_test = os.path.join(testingdir, \"dogs\")"
   ]
  },
  {
   "cell_type": "markdown",
   "id": "e2e5681a",
   "metadata": {},
   "source": [
    "## Number of elements in directories"
   ]
  },
  {
   "cell_type": "code",
   "execution_count": null,
   "id": "9f7749a7",
   "metadata": {},
   "outputs": [],
   "source": [
    "cats_train_num = len(os.listdir(cats_train))\n",
    "dogs_train_num = len(os.listdir(dogs_train))\n",
    "\n",
    "cats_test_num = len(os.listdir(cats_test))\n",
    "dogs_test_num = len(os.listdir(dogs_test))\n",
    "\n",
    "train_tot = cats_train_num + dogs_train_num\n",
    "test_tot = cats_test_num + dogs_test_num\n",
    "\n",
    "print(cats_train_num)\n",
    "print(dogs_train_num)\n",
    "\n",
    "print(cats_test_num)\n",
    "print(dogs_test_num)\n",
    "\n",
    "print(train_tot)\n",
    "print(test_tot)"
   ]
  },
  {
   "cell_type": "markdown",
   "id": "74c9184a",
   "metadata": {},
   "source": [
    "## Loading data and displaying label map"
   ]
  },
  {
   "cell_type": "code",
   "execution_count": null,
   "id": "977f156c",
   "metadata": {},
   "outputs": [],
   "source": [
    "train_data = train_datagen.flow_from_directory(batch_size=128, directory=trainingdir, target_size=(64, 64), class_mode=\"binary\")"
   ]
  },
  {
   "cell_type": "code",
   "execution_count": null,
   "id": "0484f688",
   "metadata": {},
   "outputs": [],
   "source": [
    "test_data = test_datagen.flow_from_directory(batch_size=128, directory=testingdir, target_size=(64, 64), class_mode=\"binary\")"
   ]
  },
  {
   "cell_type": "code",
   "execution_count": null,
   "id": "223a5c43",
   "metadata": {},
   "outputs": [],
   "source": [
    "label_map = (train_data.class_indices)\n",
    "print(label_map)"
   ]
  },
  {
   "cell_type": "markdown",
   "id": "16698fc3",
   "metadata": {},
   "source": [
    "## Model training"
   ]
  },
  {
   "cell_type": "code",
   "execution_count": null,
   "id": "0c553984",
   "metadata": {},
   "outputs": [],
   "source": [
    "classifier.fit(train_data, epochs=30, validation_data=test_data)"
   ]
  },
  {
   "cell_type": "markdown",
   "id": "680a16bb",
   "metadata": {},
   "source": [
    "## Loading and viewing test images"
   ]
  },
  {
   "cell_type": "code",
   "execution_count": null,
   "id": "ed10c775",
   "metadata": {},
   "outputs": [],
   "source": [
    "import numpy as np\n",
    "from tensorflow.keras.preprocessing import image\n",
    "\n",
    "test_image_1 = image.load_img(\"Dog.jpeg\", target_size=(64, 64))\n",
    "test_image_2 = image.load_img(\"Cat.jpg\", target_size=(64, 64))"
   ]
  },
  {
   "cell_type": "code",
   "execution_count": null,
   "id": "17366df5",
   "metadata": {},
   "outputs": [],
   "source": [
    "test_image_1"
   ]
  },
  {
   "cell_type": "code",
   "execution_count": null,
   "id": "d92cde59",
   "metadata": {},
   "outputs": [],
   "source": [
    "test_image_2"
   ]
  },
  {
   "cell_type": "markdown",
   "id": "16a5824a",
   "metadata": {},
   "source": [
    "## Testing and viewing result"
   ]
  },
  {
   "cell_type": "code",
   "execution_count": null,
   "id": "f1b1d737",
   "metadata": {},
   "outputs": [],
   "source": [
    "test_image_1 = image.img_to_array(test_image_1)\n",
    "test_image_2 = image.img_to_array(test_image_2)\n",
    "\n",
    "test_image_1 = test_image_1.reshape(1, 64, 64, 3)\n",
    "test_image_2 = test_image_2.reshape(1, 64, 64, 3)\n",
    "\n",
    "result_1 = classifier.predict(test_image_1)\n",
    "result_2 = classifier.predict(test_image_2)\n",
    "\n",
    "prediction_map = {0: \"cat\", 1: \"dog\"}\n",
    "\n",
    "for r in (result_1, result_2):\n",
    "    if r == 1:\n",
    "        print(\"dog\")\n",
    "    else:\n",
    "        print(\"cat\")"
   ]
  }
 ],
 "metadata": {
  "kernelspec": {
   "display_name": "Python 3 (ipykernel)",
   "language": "python",
   "name": "python3"
  },
  "language_info": {
   "codemirror_mode": {
    "name": "ipython",
    "version": 3
   },
   "file_extension": ".py",
   "mimetype": "text/x-python",
   "name": "python",
   "nbconvert_exporter": "python",
   "pygments_lexer": "ipython3",
   "version": "3.11.5"
  }
 },
 "nbformat": 4,
 "nbformat_minor": 5
}

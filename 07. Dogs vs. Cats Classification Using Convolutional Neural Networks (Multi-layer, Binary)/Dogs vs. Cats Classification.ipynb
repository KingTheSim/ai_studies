{
 "cells": [
  {
   "cell_type": "markdown",
   "id": "39dde3f9",
   "metadata": {},
   "source": [
    "## Library importing"
   ]
  },
  {
   "cell_type": "code",
   "execution_count": 1,
   "id": "e5f727d5",
   "metadata": {},
   "outputs": [],
   "source": [
    "import tensorflow as tf\n",
    "\n",
    "from tensorflow.keras.models import Sequential\n",
    "from tensorflow.keras.layers import Conv2D, MaxPooling2D, Flatten, Dense\n",
    "\n",
    "import os"
   ]
  },
  {
   "cell_type": "markdown",
   "id": "8962ca31",
   "metadata": {},
   "source": [
    "## Model creation"
   ]
  },
  {
   "cell_type": "code",
   "execution_count": 2,
   "id": "51dabd9c",
   "metadata": {},
   "outputs": [
    {
     "name": "stderr",
     "output_type": "stream",
     "text": [
      "2023-11-06 13:15:23.920568: I tensorflow/core/common_runtime/process_util.cc:146] Creating new thread pool with default inter op setting: 2. Tune using inter_op_parallelism_threads for best performance.\n"
     ]
    }
   ],
   "source": [
    "classifier = Sequential()\n",
    "\n",
    "classifier.add(Conv2D(64, (3, 3), input_shape=(64, 64, 3), activation=\"relu\"))\n",
    "classifier.add(MaxPooling2D(pool_size=(2, 2)))\n",
    "\n",
    "classifier.add(Conv2D(64, (3, 3), activation=\"relu\"))\n",
    "classifier.add(MaxPooling2D(pool_size=(2, 2)))\n",
    "\n",
    "classifier.add(Conv2D(64, (3, 3), activation=\"relu\"))\n",
    "classifier.add(MaxPooling2D(pool_size=(2, 2)))\n",
    "\n",
    "classifier.add(Flatten())\n",
    "\n",
    "classifier.add(Dense(units=128, activation=\"relu\"))\n",
    "classifier.add(Dense(units=1, activation=\"sigmoid\"))\n",
    "\n",
    "classifier.compile(optimizer=\"adam\", loss=\"binary_crossentropy\", metrics=[\"accuracy\"])"
   ]
  },
  {
   "cell_type": "markdown",
   "id": "fa8aaeb0",
   "metadata": {},
   "source": [
    "## Transforming the imported data"
   ]
  },
  {
   "cell_type": "code",
   "execution_count": 3,
   "id": "9a7ccf92",
   "metadata": {},
   "outputs": [],
   "source": [
    "from tensorflow.keras.preprocessing.image import ImageDataGenerator\n",
    "\n",
    "train_datagen = ImageDataGenerator(rescale=1./255, shear_range=0.2, zoom_range=0.2, horizontal_flip=True)\n",
    "\n",
    "test_datagen = ImageDataGenerator(rescale=1./255)"
   ]
  },
  {
   "cell_type": "markdown",
   "id": "a24f5d0c",
   "metadata": {},
   "source": [
    "## Downloading dataset"
   ]
  },
  {
   "cell_type": "code",
   "execution_count": 4,
   "id": "cb0c25e0",
   "metadata": {},
   "outputs": [
    {
     "name": "stdout",
     "output_type": "stream",
     "text": [
      "Downloading data from https://storage.googleapis.com/mledu-datasets/cats_and_dogs_filtered.zip\n",
      "68606236/68606236 [==============================] - 7s 0us/step\n"
     ]
    }
   ],
   "source": [
    "_URL = \"https://storage.googleapis.com/mledu-datasets/cats_and_dogs_filtered.zip\"\n",
    "\n",
    "path_to_zip = tf.keras.utils.get_file(\"cats_and_dogs.zip\", origin=_URL, extract=True)\n",
    "\n",
    "Path=os.path.join(os.path.dirname(path_to_zip), \"cats_and_dogs_filtered\")"
   ]
  },
  {
   "cell_type": "markdown",
   "id": "161318b6",
   "metadata": {},
   "source": [
    "## Setting up directories"
   ]
  },
  {
   "cell_type": "code",
   "execution_count": null,
   "id": "b7ced878",
   "metadata": {},
   "outputs": [],
   "source": []
  }
 ],
 "metadata": {
  "kernelspec": {
   "display_name": "Python 3 (ipykernel)",
   "language": "python",
   "name": "python3"
  },
  "language_info": {
   "codemirror_mode": {
    "name": "ipython",
    "version": 3
   },
   "file_extension": ".py",
   "mimetype": "text/x-python",
   "name": "python",
   "nbconvert_exporter": "python",
   "pygments_lexer": "ipython3",
   "version": "3.11.5"
  }
 },
 "nbformat": 4,
 "nbformat_minor": 5
}

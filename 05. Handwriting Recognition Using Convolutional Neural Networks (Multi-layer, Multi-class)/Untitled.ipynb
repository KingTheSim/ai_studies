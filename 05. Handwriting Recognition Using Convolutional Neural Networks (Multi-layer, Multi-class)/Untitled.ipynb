{
 "cells": [
  {
   "cell_type": "markdown",
   "id": "47f0478a",
   "metadata": {},
   "source": [
    "## Tensorflow importing"
   ]
  },
  {
   "cell_type": "code",
   "execution_count": null,
   "id": "a26d62da",
   "metadata": {},
   "outputs": [],
   "source": [
    "import tensorflow as tf\n",
    "from tensorflow.keras import datasets, layers, models"
   ]
  },
  {
   "cell_type": "markdown",
   "id": "67efcd08",
   "metadata": {},
   "source": [
    "## Loading the data"
   ]
  },
  {
   "cell_type": "code",
   "execution_count": null,
   "id": "17030ba3",
   "metadata": {},
   "outputs": [],
   "source": [
    "data = datasets.mnist\n",
    "(ip_train, op_train), (ip_test, op_test) = data.load_data()"
   ]
  },
  {
   "cell_type": "markdown",
   "id": "b6eafbb6",
   "metadata": {},
   "source": [
    "## Reshaping the data"
   ]
  },
  {
   "cell_type": "code",
   "execution_count": null,
   "id": "00ccba2f",
   "metadata": {},
   "outputs": [],
   "source": [
    "ip_train = ip_train.reshape((60000, 28, 28, 1))\n",
    "ip_test = ip_test.reshape((10000, 28, 28, 1))\n",
    "print(ip_train.shape, ip_test.shape)"
   ]
  },
  {
   "cell_type": "markdown",
   "id": "28bbae11",
   "metadata": {},
   "source": [
    "## Normalizing the data"
   ]
  },
  {
   "cell_type": "code",
   "execution_count": null,
   "id": "ae013eda",
   "metadata": {},
   "outputs": [],
   "source": [
    "ip_train, ip_test = ip_train / 255.0, ip_test / 255.0"
   ]
  },
  {
   "cell_type": "markdown",
   "id": "e7225b9c",
   "metadata": {},
   "source": [
    "## Building the convolutional network"
   ]
  },
  {
   "cell_type": "code",
   "execution_count": null,
   "id": "62f852bb",
   "metadata": {},
   "outputs": [],
   "source": [
    "model = models.Sequential()\n",
    "model.add(layers.Conv2D(30, (3, 3), activation=\"relu\", input_shape=(28, 28, 1)))\n",
    "model.add(layers.MaxPool2D((2, 2)))\n",
    "model.add(layers.Conv2D(60, (3, 3), activation=\"relu\"))\n",
    "model.add(layers.MaxPool2D((2, 2)))\n",
    "model.add(layers.Conv2D(90, (3, 3), activation=\"relu\"))"
   ]
  },
  {
   "cell_type": "markdown",
   "id": "7eadad6d",
   "metadata": {},
   "source": [
    "## Dense layer, Dropout layer, Output layer"
   ]
  },
  {
   "cell_type": "code",
   "execution_count": null,
   "id": "1eae5b52",
   "metadata": {},
   "outputs": [],
   "source": [
    "model.add(layers.Flatten())\n",
    "model.add(layers.Dense(64, activation=\"relu\"))\n",
    "model.add(layers.Dropout(0.5))\n",
    "model.add(layers.Dense(10, activation=\"softmax\"))"
   ]
  },
  {
   "cell_type": "markdown",
   "id": "4ee74d49",
   "metadata": {},
   "source": [
    "## Compiling the model"
   ]
  },
  {
   "cell_type": "code",
   "execution_count": null,
   "id": "8ef2c8ad",
   "metadata": {},
   "outputs": [],
   "source": [
    "model.compile(\n",
    "    optimizer=\"adam\",\n",
    "    loss=\"sparse_categorical_crossentropy\",\n",
    "    metrics=[\"accuracy\"]\n",
    ")\n",
    "model.summary()"
   ]
  },
  {
   "cell_type": "markdown",
   "id": "ae4c707d",
   "metadata": {},
   "source": [
    "## Model training"
   ]
  },
  {
   "cell_type": "code",
   "execution_count": null,
   "id": "4c1aec53",
   "metadata": {},
   "outputs": [],
   "source": [
    "model.fit(ip_train, op_train, epochs=5)"
   ]
  },
  {
   "cell_type": "markdown",
   "id": "ed9293eb",
   "metadata": {},
   "source": [
    "## Testing the model"
   ]
  },
  {
   "cell_type": "code",
   "execution_count": null,
   "id": "9adb0e2b",
   "metadata": {},
   "outputs": [],
   "source": [
    "model.evaluate(ip_test, op_test, verbose=1)"
   ]
  },
  {
   "cell_type": "markdown",
   "id": "b937cf46",
   "metadata": {},
   "source": [
    "## Choosing a test image"
   ]
  },
  {
   "cell_type": "code",
   "execution_count": null,
   "id": "b994160a",
   "metadata": {},
   "outputs": [],
   "source": [
    "import random\n",
    "import matplotlib.pyplot as plt\n",
    "%matplotlib inline\n",
    "\n",
    "test_image = ip_test[random.randint(0, 9999)]\n",
    "plt.imshow(test_image.reshape(28,28))"
   ]
  },
  {
   "cell_type": "markdown",
   "id": "82891fbd",
   "metadata": {},
   "source": [
    "## Image conversion and reshaping"
   ]
  },
  {
   "cell_type": "code",
   "execution_count": null,
   "id": "728693d7",
   "metadata": {},
   "outputs": [],
   "source": [
    "import numpy as np\n",
    "from tensorflow.keras.preprocessing import image\n",
    "\n",
    "test_image = image.img_to_array(test_image)\n",
    "test_image = test_image.reshape(1,28,28,1)"
   ]
  },
  {
   "cell_type": "markdown",
   "id": "a102e5e9",
   "metadata": {},
   "source": [
    "## Raw result"
   ]
  },
  {
   "cell_type": "code",
   "execution_count": null,
   "id": "b680faac",
   "metadata": {},
   "outputs": [],
   "source": [
    "result = model.predict(test_image)\n",
    "result"
   ]
  },
  {
   "cell_type": "markdown",
   "id": "063187dd",
   "metadata": {},
   "source": [
    "## Final result"
   ]
  },
  {
   "cell_type": "code",
   "execution_count": null,
   "id": "ae1d111a",
   "metadata": {},
   "outputs": [],
   "source": [
    "np.around(result)\n",
    "(np.around(result)).argmax()"
   ]
  }
 ],
 "metadata": {
  "kernelspec": {
   "display_name": "Python 3 (ipykernel)",
   "language": "python",
   "name": "python3"
  },
  "language_info": {
   "codemirror_mode": {
    "name": "ipython",
    "version": 3
   },
   "file_extension": ".py",
   "mimetype": "text/x-python",
   "name": "python",
   "nbconvert_exporter": "python",
   "pygments_lexer": "ipython3",
   "version": "3.11.5"
  }
 },
 "nbformat": 4,
 "nbformat_minor": 5
}

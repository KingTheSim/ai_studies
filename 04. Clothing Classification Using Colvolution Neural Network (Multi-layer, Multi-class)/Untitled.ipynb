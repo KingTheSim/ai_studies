{
 "cells": [
  {
   "cell_type": "markdown",
   "id": "19ac4e03",
   "metadata": {},
   "source": [
    "## Tensorflow imports"
   ]
  },
  {
   "cell_type": "code",
   "execution_count": null,
   "id": "9830410e",
   "metadata": {},
   "outputs": [],
   "source": [
    "import tensorflow as tf\n",
    "from tensorflow.keras import datasets, layers, models"
   ]
  },
  {
   "cell_type": "markdown",
   "id": "b6415aa0",
   "metadata": {},
   "source": [
    "## Dataset loading"
   ]
  },
  {
   "cell_type": "code",
   "execution_count": null,
   "id": "46dac783",
   "metadata": {},
   "outputs": [],
   "source": [
    "data = datasets.fashion_mnist\n",
    "(ip_train, op_train), (ip_test, op_test) = data.load_data()"
   ]
  },
  {
   "cell_type": "markdown",
   "id": "bbf5960f",
   "metadata": {},
   "source": [
    "## Checking image shape"
   ]
  },
  {
   "cell_type": "code",
   "execution_count": null,
   "id": "5f9c6602",
   "metadata": {},
   "outputs": [],
   "source": [
    "print(ip_train.shape, ip_test.shape)"
   ]
  },
  {
   "cell_type": "markdown",
   "id": "0dace305",
   "metadata": {},
   "source": [
    "## Reshaping input values"
   ]
  },
  {
   "cell_type": "code",
   "execution_count": null,
   "id": "14be9bdb",
   "metadata": {},
   "outputs": [],
   "source": [
    "ip_train = ip_train.reshape((60000, 28, 28, 1))\n",
    "ip_test = ip_test.reshape((10000, 28, 28, 1))\n",
    "print(ip_train.shape, ip_test.shape)"
   ]
  },
  {
   "cell_type": "markdown",
   "id": "499e67d5",
   "metadata": {},
   "source": [
    "## Data normalization"
   ]
  },
  {
   "cell_type": "code",
   "execution_count": null,
   "id": "a4d48404",
   "metadata": {},
   "outputs": [],
   "source": [
    "ip_train, ip_test = ip_train / 255.0, ip_test / 255.0"
   ]
  },
  {
   "cell_type": "markdown",
   "id": "37207269",
   "metadata": {},
   "source": [
    "## Convolutional neural network"
   ]
  },
  {
   "cell_type": "code",
   "execution_count": null,
   "id": "ac81e001",
   "metadata": {},
   "outputs": [],
   "source": [
    "model = models.Sequential()\n",
    "model.add(layers.Conv2D(32, (3,3), activation=\"relu\", input_shape=(28,28,1)))\n",
    "model.add(layers.MaxPool2D((2,2)))\n",
    "model.add(layers.Conv2D(64, (3,3), activation=\"relu\"))\n",
    "model.add(layers.MaxPool2D((2,2)))\n",
    "model.add(layers.Conv2D(64, (3,3), activation=\"relu\"))"
   ]
  },
  {
   "cell_type": "markdown",
   "id": "5fb16828",
   "metadata": {},
   "source": [
    "## Adding dense and output layers"
   ]
  },
  {
   "cell_type": "code",
   "execution_count": null,
   "id": "d7706da1",
   "metadata": {},
   "outputs": [],
   "source": [
    "model.add(layers.Flatten())\n",
    "model.add(layers.Dense(64, activation=\"relu\"))\n",
    "model.add(layers.Dense(10, activation=\"softmax\"))"
   ]
  },
  {
   "cell_type": "markdown",
   "id": "1f5f59e3",
   "metadata": {},
   "source": [
    "## Model compiling"
   ]
  },
  {
   "cell_type": "code",
   "execution_count": null,
   "id": "e1362261",
   "metadata": {},
   "outputs": [],
   "source": [
    "model.compile(\n",
    "    optimizer=\"adam\",\n",
    "    loss=\"sparse_categorical_crossentropy\",\n",
    "    metrics=[\"accuracy\"]\n",
    ")"
   ]
  },
  {
   "cell_type": "markdown",
   "id": "b46e149f",
   "metadata": {},
   "source": [
    "## Viewing the model"
   ]
  },
  {
   "cell_type": "code",
   "execution_count": null,
   "id": "ef1e8986",
   "metadata": {},
   "outputs": [],
   "source": [
    "model.summary()"
   ]
  },
  {
   "cell_type": "markdown",
   "id": "31038393",
   "metadata": {},
   "source": [
    "## Training the model"
   ]
  },
  {
   "cell_type": "code",
   "execution_count": null,
   "id": "ad1e21e0",
   "metadata": {},
   "outputs": [],
   "source": [
    "model.fit(ip_train, op_train, epochs=5)"
   ]
  },
  {
   "cell_type": "markdown",
   "id": "cc2a5847",
   "metadata": {},
   "source": [
    "## Testing the model"
   ]
  },
  {
   "cell_type": "code",
   "execution_count": null,
   "id": "fa8a0396",
   "metadata": {},
   "outputs": [],
   "source": [
    "model.evaluate(ip_test, op_test, verbose=1)"
   ]
  },
  {
   "cell_type": "code",
   "execution_count": null,
   "id": "6402fcd7",
   "metadata": {},
   "outputs": [],
   "source": []
  }
 ],
 "metadata": {
  "kernelspec": {
   "display_name": "Python 3 (ipykernel)",
   "language": "python",
   "name": "python3"
  },
  "language_info": {
   "codemirror_mode": {
    "name": "ipython",
    "version": 3
   },
   "file_extension": ".py",
   "mimetype": "text/x-python",
   "name": "python",
   "nbconvert_exporter": "python",
   "pygments_lexer": "ipython3",
   "version": "3.11.5"
  }
 },
 "nbformat": 4,
 "nbformat_minor": 5
}

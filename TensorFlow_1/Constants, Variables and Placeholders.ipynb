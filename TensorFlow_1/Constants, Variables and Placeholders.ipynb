{
 "cells": [
  {
   "cell_type": "code",
   "execution_count": null,
   "id": "06cc1472",
   "metadata": {},
   "outputs": [],
   "source": [
    "import tensorflow as tf"
   ]
  },
  {
   "cell_type": "code",
   "execution_count": null,
   "id": "1b69523e",
   "metadata": {},
   "outputs": [],
   "source": [
    "g = tf.placeholder(tf.float32)\n",
    "h = tf.placeholder(tf.float32)\n",
    "sum = g + h\n",
    "prod = sum * 5\n",
    "sess = tf.Session()\n",
    "sess.run(prod, feed_dict={g: [2], h: [3]})"
   ]
  }
 ],
 "metadata": {
  "kernelspec": {
   "display_name": "Python 3 (ipykernel)",
   "language": "python",
   "name": "python3"
  },
  "language_info": {
   "codemirror_mode": {
    "name": "ipython",
    "version": 3
   },
   "file_extension": ".py",
   "mimetype": "text/x-python",
   "name": "python",
   "nbconvert_exporter": "python",
   "pygments_lexer": "ipython3",
   "version": "3.11.5"
  }
 },
 "nbformat": 4,
 "nbformat_minor": 5
}

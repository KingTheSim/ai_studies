{
 "cells": [
  {
   "cell_type": "code",
   "execution_count": null,
   "id": "f779f1d3",
   "metadata": {},
   "outputs": [],
   "source": [
    "import tensorflow as tf"
   ]
  },
  {
   "cell_type": "code",
   "execution_count": null,
   "id": "0eac42c9",
   "metadata": {},
   "outputs": [],
   "source": [
    "graph = tf.Graph()"
   ]
  },
  {
   "cell_type": "code",
   "execution_count": null,
   "id": "a6583929",
   "metadata": {},
   "outputs": [],
   "source": [
    "graph.get_operations()"
   ]
  },
  {
   "cell_type": "code",
   "execution_count": null,
   "id": "347b07ba",
   "metadata": {},
   "outputs": [],
   "source": [
    "a = tf.constant(300, name=\"a\")\n",
    "b = tf.constant(65, name=\"b\")\n",
    "c = tf.add(a, b, name=\"c\")\n",
    "d = tf.multiply(c, 10, name=\"d\")\n",
    "operations = graph.get_operations()\n",
    "operations"
   ]
  },
  {
   "cell_type": "code",
   "execution_count": null,
   "id": "66a5804b",
   "metadata": {},
   "outputs": [],
   "source": [
    "e = tf.multiply(a, 8, name=\"e\")\n",
    "operations = graph.get_operations\n",
    "operations"
   ]
  },
  {
   "cell_type": "code",
   "execution_count": null,
   "id": "33a46a10",
   "metadata": {
    "scrolled": true
   },
   "outputs": [],
   "source": [
    "sess = tf.Session()\n",
    "with tf.Session() as sess:\n",
    "    result = sess.run(a, e)\n",
    "    print(result)"
   ]
  },
  {
   "cell_type": "code",
   "execution_count": null,
   "id": "e4bfb1d2",
   "metadata": {},
   "outputs": [],
   "source": []
  }
 ],
 "metadata": {
  "kernelspec": {
   "display_name": "Python 3 (ipykernel)",
   "language": "python",
   "name": "python3"
  },
  "language_info": {
   "codemirror_mode": {
    "name": "ipython",
    "version": 3
   },
   "file_extension": ".py",
   "mimetype": "text/x-python",
   "name": "python",
   "nbconvert_exporter": "python",
   "pygments_lexer": "ipython3",
   "version": "3.11.5"
  }
 },
 "nbformat": 4,
 "nbformat_minor": 5
}

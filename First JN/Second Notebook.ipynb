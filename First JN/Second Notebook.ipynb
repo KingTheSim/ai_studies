{
 "cells": [
  {
   "cell_type": "code",
   "execution_count": null,
   "id": "b6bbae0a",
   "metadata": {},
   "outputs": [],
   "source": [
    "print(\"Hello World!\")"
   ]
  },
  {
   "cell_type": "markdown",
   "id": "c10e3a91",
   "metadata": {},
   "source": [
    "Hello World!"
   ]
  },
  {
   "cell_type": "markdown",
   "id": "4bf9a6fa",
   "metadata": {},
   "source": [
    "# My Program"
   ]
  },
  {
   "cell_type": "code",
   "execution_count": null,
   "id": "19369458",
   "metadata": {},
   "outputs": [],
   "source": []
  }
 ],
 "metadata": {
  "kernelspec": {
   "display_name": "Python 3 (ipykernel)",
   "language": "python",
   "name": "python3"
  },
  "language_info": {
   "codemirror_mode": {
    "name": "ipython",
    "version": 3
   },
   "file_extension": ".py",
   "mimetype": "text/x-python",
   "name": "python",
   "nbconvert_exporter": "python",
   "pygments_lexer": "ipython3",
   "version": "3.11.5"
  }
 },
 "nbformat": 4,
 "nbformat_minor": 5
}

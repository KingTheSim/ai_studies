{
 "cells": [
  {
   "cell_type": "markdown",
   "id": "bd28d384",
   "metadata": {},
   "source": [
    "# Hello World"
   ]
  },
  {
   "cell_type": "code",
   "execution_count": null,
   "id": "841cee19",
   "metadata": {},
   "outputs": [],
   "source": [
    "print(\"Hello World\")\n",
    "\n",
    "a = input(\"Enter your name here: \")\n",
    "\n",
    "a"
   ]
  },
  {
   "cell_type": "code",
   "execution_count": null,
   "id": "aa41c6d9",
   "metadata": {
    "scrolled": true
   },
   "outputs": [],
   "source": [
    "b = 2\n",
    "c = int(input(\"Enter a number: \"))\n",
    "summed = b + c\n",
    "print(summed)"
   ]
  },
  {
   "cell_type": "code",
   "execution_count": null,
   "id": "3dd88191",
   "metadata": {},
   "outputs": [],
   "source": [
    "def prod(a):\n",
    "    b = int(input(\"Enter a value: \"))\n",
    "    c = 5\n",
    "    p = a* b * c\n",
    "    return p"
   ]
  },
  {
   "cell_type": "code",
   "execution_count": null,
   "id": "4530d436",
   "metadata": {},
   "outputs": [],
   "source": [
    "prod(6)"
   ]
  },
  {
   "cell_type": "code",
   "execution_count": null,
   "id": "c0908346",
   "metadata": {},
   "outputs": [],
   "source": [
    "list = [2, 4, 6, 8, 10]"
   ]
  },
  {
   "cell_type": "code",
   "execution_count": null,
   "id": "81637b64",
   "metadata": {},
   "outputs": [],
   "source": [
    "list"
   ]
  },
  {
   "cell_type": "code",
   "execution_count": null,
   "id": "4e6bf9ee",
   "metadata": {},
   "outputs": [],
   "source": [
    "age = {\"Henry\": 30, \"Chiara\": 19, \"Benedict\": 23, \"Dominic\": 15, \"Gertrude\": 24}"
   ]
  },
  {
   "cell_type": "code",
   "execution_count": null,
   "id": "0d88a7b6",
   "metadata": {},
   "outputs": [],
   "source": [
    "age"
   ]
  },
  {
   "cell_type": "code",
   "execution_count": null,
   "id": "d9158f71",
   "metadata": {},
   "outputs": [],
   "source": [
    "count = 0\n",
    "while count <= 5:\n",
    "    count += 1\n",
    "    print(\"Love your neighbour as yourself\")"
   ]
  },
  {
   "cell_type": "code",
   "execution_count": null,
   "id": "c446b983",
   "metadata": {},
   "outputs": [],
   "source": [
    "string = \"Rejoice\"\n",
    "for i in string:\n",
    "    print(i)"
   ]
  },
  {
   "cell_type": "code",
   "execution_count": null,
   "id": "a7797889",
   "metadata": {},
   "outputs": [],
   "source": [
    "i = 0\n",
    "s = \"Have a beautiful day\"\n",
    "while i <= 3:\n",
    "    i += 1\n",
    "    for a in s:\n",
    "        print(a)"
   ]
  },
  {
   "cell_type": "code",
   "execution_count": null,
   "id": "a1e0dc87",
   "metadata": {},
   "outputs": [],
   "source": [
    "x = 3 * 3\n",
    "if x % 2 == 0:\n",
    "    print(\"It is even\")\n",
    "else:\n",
    "    print(\"It is odd\")"
   ]
  },
  {
   "cell_type": "code",
   "execution_count": null,
   "id": "d6215b65",
   "metadata": {},
   "outputs": [],
   "source": [
    "x = 7\n",
    "if x % 2 == 0:\n",
    "    print(\"It is divisible by 2\")\n",
    "elif x % 3 == 0:\n",
    "    print(\"It is divisible by 3\")\n",
    "else:\n",
    "    print(\"It is neither divisible by 2 nor 3\")"
   ]
  },
  {
   "cell_type": "code",
   "execution_count": null,
   "id": "354765a2",
   "metadata": {},
   "outputs": [],
   "source": [
    "# This is a comment line in between my code."
   ]
  },
  {
   "cell_type": "code",
   "execution_count": null,
   "id": "dbf0b7fe",
   "metadata": {},
   "outputs": [],
   "source": [
    "x = 7\n",
    "if x % 2 == 0:\n",
    "    print(\"It is divisible by 2\")\n",
    "elif x % 3 == 0:\n",
    "    print(\"It is divisible by 3\")\n",
    "else:\n",
    "    print(\"It is neither divisible by 2 nor 3\")"
   ]
  },
  {
   "cell_type": "code",
   "execution_count": null,
   "id": "bab54be4",
   "metadata": {},
   "outputs": [],
   "source": []
  }
 ],
 "metadata": {
  "kernelspec": {
   "display_name": "Python 3 (ipykernel)",
   "language": "python",
   "name": "python3"
  },
  "language_info": {
   "codemirror_mode": {
    "name": "ipython",
    "version": 3
   },
   "file_extension": ".py",
   "mimetype": "text/x-python",
   "name": "python",
   "nbconvert_exporter": "python",
   "pygments_lexer": "ipython3",
   "version": "3.11.5"
  }
 },
 "nbformat": 4,
 "nbformat_minor": 5
}
